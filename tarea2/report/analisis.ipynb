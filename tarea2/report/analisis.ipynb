{
 "cells": [
  {
   "cell_type": "code",
   "execution_count": 1,
   "metadata": {},
   "outputs": [],
   "source": [
    "from pathlib import Path\n",
    "import pandas as pd\n",
    "from tqdm import tqdm\n",
    "\n",
    "from data_loader import (\n",
    "    load_mergesort_results,\n",
    "    load_radixsort_results,\n",
    ")"
   ]
  },
  {
   "cell_type": "code",
   "execution_count": 2,
   "metadata": {},
   "outputs": [],
   "source": [
    "ROOT_DIR = Path.cwd().parent\n",
    "DATA_DIR = ROOT_DIR / 'data'"
   ]
  },
  {
   "cell_type": "code",
   "execution_count": 3,
   "metadata": {},
   "outputs": [],
   "source": [
    "MERGE_SORT_DIR = DATA_DIR / 'mergeSortResults'\n",
    "RADIX_SORT_DIR = DATA_DIR / 'radixSortResults'"
   ]
  },
  {
   "cell_type": "code",
   "execution_count": 35,
   "metadata": {},
   "outputs": [
    {
     "ename": "ValueError",
     "evalue": "/home/pabloskewes/FCFM/Diseño y Análisis de Algoritmos/diseno-y-analisis-de-algoritmos/tarea2/data/radixSortResults is not a directory",
     "output_type": "error",
     "traceback": [
      "\u001b[0;31m---------------------------------------------------------------------------\u001b[0m",
      "\u001b[0;31mValueError\u001b[0m                                Traceback (most recent call last)",
      "\u001b[1;32m/home/pabloskewes/FCFM/Diseño y Análisis de Algoritmos/diseno-y-analisis-de-algoritmos/tarea2/report/analisis.ipynb Cell 5\u001b[0m line \u001b[0;36m6\n\u001b[1;32m     <a href='vscode-notebook-cell:/home/pabloskewes/FCFM/Dise%C3%B1o%20y%20An%C3%A1lisis%20de%20Algoritmos/diseno-y-analisis-de-algoritmos/tarea2/report/analisis.ipynb#W3sZmlsZQ%3D%3D?line=60'>61</a>\u001b[0m     \u001b[39mreturn\u001b[39;00m df\n\u001b[1;32m     <a href='vscode-notebook-cell:/home/pabloskewes/FCFM/Dise%C3%B1o%20y%20An%C3%A1lisis%20de%20Algoritmos/diseno-y-analisis-de-algoritmos/tarea2/report/analisis.ipynb#W3sZmlsZQ%3D%3D?line=63'>64</a>\u001b[0m mergesort \u001b[39m=\u001b[39m load_mergesort_results(MERGE_SORT_DIR)\n\u001b[0;32m---> <a href='vscode-notebook-cell:/home/pabloskewes/FCFM/Dise%C3%B1o%20y%20An%C3%A1lisis%20de%20Algoritmos/diseno-y-analisis-de-algoritmos/tarea2/report/analisis.ipynb#W3sZmlsZQ%3D%3D?line=64'>65</a>\u001b[0m radixsort \u001b[39m=\u001b[39m load_radixsort_results(RADIX_SORT_DIR)\n",
      "\u001b[1;32m/home/pabloskewes/FCFM/Diseño y Análisis de Algoritmos/diseno-y-analisis-de-algoritmos/tarea2/report/analisis.ipynb Cell 5\u001b[0m line \u001b[0;36m3\n\u001b[1;32m     <a href='vscode-notebook-cell:/home/pabloskewes/FCFM/Dise%C3%B1o%20y%20An%C3%A1lisis%20de%20Algoritmos/diseno-y-analisis-de-algoritmos/tarea2/report/analisis.ipynb#W3sZmlsZQ%3D%3D?line=32'>33</a>\u001b[0m \u001b[39m\u001b[39m\u001b[39m\"\"\"Takes a path to a directory containing the results of the radix sort\u001b[39;00m\n\u001b[1;32m     <a href='vscode-notebook-cell:/home/pabloskewes/FCFM/Dise%C3%B1o%20y%20An%C3%A1lisis%20de%20Algoritmos/diseno-y-analisis-de-algoritmos/tarea2/report/analisis.ipynb#W3sZmlsZQ%3D%3D?line=33'>34</a>\u001b[0m \u001b[39malgorithm and returns a DataFrame with the results.\u001b[39;00m\n\u001b[1;32m     <a href='vscode-notebook-cell:/home/pabloskewes/FCFM/Dise%C3%B1o%20y%20An%C3%A1lisis%20de%20Algoritmos/diseno-y-analisis-de-algoritmos/tarea2/report/analisis.ipynb#W3sZmlsZQ%3D%3D?line=34'>35</a>\u001b[0m \u001b[39m\"\"\"\u001b[39;00m\n\u001b[1;32m     <a href='vscode-notebook-cell:/home/pabloskewes/FCFM/Dise%C3%B1o%20y%20An%C3%A1lisis%20de%20Algoritmos/diseno-y-analisis-de-algoritmos/tarea2/report/analisis.ipynb#W3sZmlsZQ%3D%3D?line=35'>36</a>\u001b[0m \u001b[39mif\u001b[39;00m \u001b[39mnot\u001b[39;00m path\u001b[39m.\u001b[39mis_dir():\n\u001b[0;32m---> <a href='vscode-notebook-cell:/home/pabloskewes/FCFM/Dise%C3%B1o%20y%20An%C3%A1lisis%20de%20Algoritmos/diseno-y-analisis-de-algoritmos/tarea2/report/analisis.ipynb#W3sZmlsZQ%3D%3D?line=36'>37</a>\u001b[0m     \u001b[39mraise\u001b[39;00m \u001b[39mValueError\u001b[39;00m(\u001b[39mf\u001b[39m\u001b[39m\"\u001b[39m\u001b[39m{\u001b[39;00mpath\u001b[39m}\u001b[39;00m\u001b[39m is not a directory\u001b[39m\u001b[39m\"\u001b[39m)\n\u001b[1;32m     <a href='vscode-notebook-cell:/home/pabloskewes/FCFM/Dise%C3%B1o%20y%20An%C3%A1lisis%20de%20Algoritmos/diseno-y-analisis-de-algoritmos/tarea2/report/analisis.ipynb#W3sZmlsZQ%3D%3D?line=38'>39</a>\u001b[0m \u001b[39mif\u001b[39;00m \u001b[39mnot\u001b[39;00m \u001b[39mlen\u001b[39m(\u001b[39mlist\u001b[39m(path\u001b[39m.\u001b[39mglob(\u001b[39m\"\u001b[39m\u001b[39m*.csv\u001b[39m\u001b[39m\"\u001b[39m))):\n\u001b[1;32m     <a href='vscode-notebook-cell:/home/pabloskewes/FCFM/Dise%C3%B1o%20y%20An%C3%A1lisis%20de%20Algoritmos/diseno-y-analisis-de-algoritmos/tarea2/report/analisis.ipynb#W3sZmlsZQ%3D%3D?line=39'>40</a>\u001b[0m     \u001b[39mraise\u001b[39;00m \u001b[39mValueError\u001b[39;00m(\u001b[39mf\u001b[39m\u001b[39m\"\u001b[39m\u001b[39m{\u001b[39;00mpath\u001b[39m}\u001b[39;00m\u001b[39m is empty\u001b[39m\u001b[39m\"\u001b[39m)\n",
      "\u001b[0;31mValueError\u001b[0m: /home/pabloskewes/FCFM/Diseño y Análisis de Algoritmos/diseno-y-analisis-de-algoritmos/tarea2/data/radixSortResults is not a directory"
     ]
    }
   ],
   "source": [
    "mergesort = load_mergesort_results(MERGE_SORT_DIR)\n",
    "radixsort = load_radixsort_results(RADIX_SORT_DIR)"
   ]
  },
  {
   "cell_type": "code",
   "execution_count": 33,
   "metadata": {},
   "outputs": [
    {
     "data": {
      "text/html": [
       "<div>\n",
       "<style scoped>\n",
       "    .dataframe tbody tr th:only-of-type {\n",
       "        vertical-align: middle;\n",
       "    }\n",
       "\n",
       "    .dataframe tbody tr th {\n",
       "        vertical-align: top;\n",
       "    }\n",
       "\n",
       "    .dataframe thead th {\n",
       "        text-align: right;\n",
       "    }\n",
       "</style>\n",
       "<table border=\"1\" class=\"dataframe\">\n",
       "  <thead>\n",
       "    <tr style=\"text-align: right;\">\n",
       "      <th></th>\n",
       "      <th>universe</th>\n",
       "      <th>experiment</th>\n",
       "      <th>time</th>\n",
       "    </tr>\n",
       "  </thead>\n",
       "  <tbody>\n",
       "    <tr>\n",
       "      <th>348</th>\n",
       "      <td>1</td>\n",
       "      <td>1</td>\n",
       "      <td>43960.0</td>\n",
       "    </tr>\n",
       "    <tr>\n",
       "      <th>815</th>\n",
       "      <td>1</td>\n",
       "      <td>2</td>\n",
       "      <td>41540.0</td>\n",
       "    </tr>\n",
       "    <tr>\n",
       "      <th>539</th>\n",
       "      <td>1</td>\n",
       "      <td>3</td>\n",
       "      <td>43166.0</td>\n",
       "    </tr>\n",
       "    <tr>\n",
       "      <th>339</th>\n",
       "      <td>1</td>\n",
       "      <td>4</td>\n",
       "      <td>43159.0</td>\n",
       "    </tr>\n",
       "    <tr>\n",
       "      <th>393</th>\n",
       "      <td>1</td>\n",
       "      <td>5</td>\n",
       "      <td>43264.0</td>\n",
       "    </tr>\n",
       "  </tbody>\n",
       "</table>\n",
       "</div>"
      ],
      "text/plain": [
       "     universe  experiment     time\n",
       "348         1           1  43960.0\n",
       "815         1           2  41540.0\n",
       "539         1           3  43166.0\n",
       "339         1           4  43159.0\n",
       "393         1           5  43264.0"
      ]
     },
     "execution_count": 33,
     "metadata": {},
     "output_type": "execute_result"
    }
   ],
   "source": [
    "mergesort.head()"
   ]
  },
  {
   "cell_type": "code",
   "execution_count": null,
   "metadata": {},
   "outputs": [],
   "source": []
  }
 ],
 "metadata": {
  "kernelspec": {
   "display_name": "venv",
   "language": "python",
   "name": "python3"
  },
  "language_info": {
   "codemirror_mode": {
    "name": "ipython",
    "version": 3
   },
   "file_extension": ".py",
   "mimetype": "text/x-python",
   "name": "python",
   "nbconvert_exporter": "python",
   "pygments_lexer": "ipython3",
   "version": "3.11.1"
  }
 },
 "nbformat": 4,
 "nbformat_minor": 2
}
