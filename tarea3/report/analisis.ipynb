{
 "cells": [
  {
   "cell_type": "code",
   "execution_count": 1,
   "metadata": {},
   "outputs": [],
   "source": [
    "from typing import List\n",
    "from pathlib import Path\n",
    "\n",
    "import numpy as np\n",
    "import pandas as pd\n",
    "import matplotlib.pyplot as plt\n",
    "\n",
    "from data_loader import (\n",
    "    load_results,\n",
    ")"
   ]
  },
  {
   "cell_type": "code",
   "execution_count": 2,
   "metadata": {},
   "outputs": [],
   "source": [
    "ROOT_DIR = Path.cwd().parent\n",
    "DATA_DIR = ROOT_DIR / 'data'"
   ]
  },
  {
   "cell_type": "code",
   "execution_count": 3,
   "metadata": {},
   "outputs": [],
   "source": [
    "DIVIDE_AND_CONQUER_RESULTS_DIR = DATA_DIR / 'results' / 'divideAndConquer'\n",
    "assert DIVIDE_AND_CONQUER_RESULTS_DIR.exists()"
   ]
  },
  {
   "cell_type": "code",
   "execution_count": 4,
   "metadata": {},
   "outputs": [],
   "source": [
    "def show(df: pd.DataFrame, lines: int = 5) -> None:\n",
    "    display(df.head(lines))\n",
    "    print(f\"Shape: {df.shape}\")\n",
    "\n",
    "\n",
    "def aggregate_data(\n",
    "    df: pd.DataFrame,\n",
    "    groupby_columns: List[str],\n",
    "    round_to: int = 0,\n",
    ") -> pd.DataFrame:\n",
    "    \"\"\"Compute the mean time for each group of experiments,\n",
    "    std and confidence interval.\n",
    "    Args:\n",
    "        df: DataFrame with the data\n",
    "        groupby_columns: Columns to group by\n",
    "    Returns:\n",
    "        DataFrame with the mean time for each group of experiments\n",
    "    \"\"\"\n",
    "    means = df.groupby(groupby_columns).agg(\n",
    "        mean_time=(\"time\", \"mean\"),\n",
    "        std_time=(\"time\", \"std\"),\n",
    "        ci_time=(\"time\", lambda x: 1.96 * np.std(x) / np.sqrt(len(x))),\n",
    "    )\n",
    "\n",
    "    means[\"ci_time\"] = means.apply(\n",
    "        lambda x: (\n",
    "            round(x[\"mean_time\"] - x[\"ci_time\"], round_to),\n",
    "            round(x[\"mean_time\"] + x[\"ci_time\"], round_to),\n",
    "        ),\n",
    "        axis=1,\n",
    "    )\n",
    "\n",
    "    means = means.round(round_to)\n",
    "    if round_to == 0:\n",
    "        means[\"mean_time\"] = means[\"mean_time\"].astype(int)\n",
    "        means[\"std_time\"] = means[\"std_time\"].astype(int)\n",
    "        means[\"ci_time\"] = means[\"ci_time\"].apply(lambda x: (int(x[0]), int(x[1])))\n",
    "    return means.reset_index()"
   ]
  },
  {
   "cell_type": "code",
   "execution_count": 5,
   "metadata": {},
   "outputs": [
    {
     "data": {
      "text/plain": [
       "PosixPath('/home/pabloskewes/FCFM/Diseño y Análisis de Algoritmos/diseno-y-analisis-de-algoritmos/tarea3/data/results/divideAndConquer')"
      ]
     },
     "execution_count": 5,
     "metadata": {},
     "output_type": "execute_result"
    }
   ],
   "source": [
    "DIVIDE_AND_CONQUER_RESULTS_DIR"
   ]
  },
  {
   "cell_type": "code",
   "execution_count": 16,
   "metadata": {},
   "outputs": [
    {
     "name": "stdout",
     "output_type": "stream",
     "text": [
      "Skipping /home/pabloskewes/FCFM/Diseño y Análisis de Algoritmos/diseno-y-analisis-de-algoritmos/tarea3/data/results/divideAndConquer/n_20exp_94.csv due to invalid data\n",
      "Skipping /home/pabloskewes/FCFM/Diseño y Análisis de Algoritmos/diseno-y-analisis-de-algoritmos/tarea3/data/results/divideAndConquer/n_10exp_94.csv due to invalid data\n",
      "Skipping /home/pabloskewes/FCFM/Diseño y Análisis de Algoritmos/diseno-y-analisis-de-algoritmos/tarea3/data/results/divideAndConquer/n_30exp_94.csv due to invalid data\n",
      "Skipping /home/pabloskewes/FCFM/Diseño y Análisis de Algoritmos/diseno-y-analisis-de-algoritmos/tarea3/data/results/divideAndConquer/n_15exp_94.csv due to invalid data\n",
      "Skipping /home/pabloskewes/FCFM/Diseño y Análisis de Algoritmos/diseno-y-analisis-de-algoritmos/tarea3/data/results/divideAndConquer/n_5exp_94.csv due to invalid data\n",
      "Skipping /home/pabloskewes/FCFM/Diseño y Análisis de Algoritmos/diseno-y-analisis-de-algoritmos/tarea3/data/results/divideAndConquer/n_25exp_94.csv due to invalid data\n",
      "Skipping /home/pabloskewes/FCFM/Diseño y Análisis de Algoritmos/diseno-y-analisis-de-algoritmos/tarea3/data/results/divideAndConquer/n_35exp_94.csv due to invalid data\n"
     ]
    }
   ],
   "source": [
    "FIRST_EXPERIMENT = 0\n",
    "\n",
    "divide_and_conquer_df = load_results(DIVIDE_AND_CONQUER_RESULTS_DIR)\n",
    "divide_and_conquer_df = divide_and_conquer_df.astype(int)\n",
    "divide_and_conquer_df = divide_and_conquer_df[divide_and_conquer_df[\"experiment\"] >= FIRST_EXPERIMENT]"
   ]
  },
  {
   "cell_type": "code",
   "execution_count": 17,
   "metadata": {},
   "outputs": [
    {
     "data": {
      "text/html": [
       "<div>\n",
       "<style scoped>\n",
       "    .dataframe tbody tr th:only-of-type {\n",
       "        vertical-align: middle;\n",
       "    }\n",
       "\n",
       "    .dataframe tbody tr th {\n",
       "        vertical-align: top;\n",
       "    }\n",
       "\n",
       "    .dataframe thead th {\n",
       "        text-align: right;\n",
       "    }\n",
       "</style>\n",
       "<table border=\"1\" class=\"dataframe\">\n",
       "  <thead>\n",
       "    <tr style=\"text-align: right;\">\n",
       "      <th></th>\n",
       "      <th>n</th>\n",
       "      <th>time</th>\n",
       "      <th>experiment</th>\n",
       "    </tr>\n",
       "  </thead>\n",
       "  <tbody>\n",
       "    <tr>\n",
       "      <th>0</th>\n",
       "      <td>25</td>\n",
       "      <td>37621334</td>\n",
       "      <td>89</td>\n",
       "    </tr>\n",
       "    <tr>\n",
       "      <th>1</th>\n",
       "      <td>15</td>\n",
       "      <td>22493240</td>\n",
       "      <td>60</td>\n",
       "    </tr>\n",
       "    <tr>\n",
       "      <th>2</th>\n",
       "      <td>25</td>\n",
       "      <td>36879801</td>\n",
       "      <td>97</td>\n",
       "    </tr>\n",
       "    <tr>\n",
       "      <th>3</th>\n",
       "      <td>15</td>\n",
       "      <td>22679921</td>\n",
       "      <td>74</td>\n",
       "    </tr>\n",
       "    <tr>\n",
       "      <th>4</th>\n",
       "      <td>25</td>\n",
       "      <td>37353050</td>\n",
       "      <td>47</td>\n",
       "    </tr>\n",
       "    <tr>\n",
       "      <th>...</th>\n",
       "      <td>...</td>\n",
       "      <td>...</td>\n",
       "      <td>...</td>\n",
       "    </tr>\n",
       "    <tr>\n",
       "      <th>988</th>\n",
       "      <td>25</td>\n",
       "      <td>37636909</td>\n",
       "      <td>70</td>\n",
       "    </tr>\n",
       "    <tr>\n",
       "      <th>989</th>\n",
       "      <td>10</td>\n",
       "      <td>14695511</td>\n",
       "      <td>21</td>\n",
       "    </tr>\n",
       "    <tr>\n",
       "      <th>990</th>\n",
       "      <td>40</td>\n",
       "      <td>64330311</td>\n",
       "      <td>41</td>\n",
       "    </tr>\n",
       "    <tr>\n",
       "      <th>991</th>\n",
       "      <td>10</td>\n",
       "      <td>14473642</td>\n",
       "      <td>95</td>\n",
       "    </tr>\n",
       "    <tr>\n",
       "      <th>992</th>\n",
       "      <td>20</td>\n",
       "      <td>30675514</td>\n",
       "      <td>43</td>\n",
       "    </tr>\n",
       "  </tbody>\n",
       "</table>\n",
       "<p>993 rows × 3 columns</p>\n",
       "</div>"
      ],
      "text/plain": [
       "      n      time  experiment\n",
       "0    25  37621334          89\n",
       "1    15  22493240          60\n",
       "2    25  36879801          97\n",
       "3    15  22679921          74\n",
       "4    25  37353050          47\n",
       "..   ..       ...         ...\n",
       "988  25  37636909          70\n",
       "989  10  14695511          21\n",
       "990  40  64330311          41\n",
       "991  10  14473642          95\n",
       "992  20  30675514          43\n",
       "\n",
       "[993 rows x 3 columns]"
      ]
     },
     "execution_count": 17,
     "metadata": {},
     "output_type": "execute_result"
    }
   ],
   "source": [
    "divide_and_conquer_df"
   ]
  },
  {
   "cell_type": "code",
   "execution_count": 18,
   "metadata": {},
   "outputs": [],
   "source": [
    "ROUND_TO = 0\n",
    "\n",
    "div_and_conq = aggregate_data(\n",
    "    divide_and_conquer_df,\n",
    "    groupby_columns=[\"n\"],\n",
    "    round_to=ROUND_TO,\n",
    ")\n"
   ]
  },
  {
   "cell_type": "code",
   "execution_count": 20,
   "metadata": {},
   "outputs": [
    {
     "data": {
      "text/html": [
       "<div>\n",
       "<style scoped>\n",
       "    .dataframe tbody tr th:only-of-type {\n",
       "        vertical-align: middle;\n",
       "    }\n",
       "\n",
       "    .dataframe tbody tr th {\n",
       "        vertical-align: top;\n",
       "    }\n",
       "\n",
       "    .dataframe thead th {\n",
       "        text-align: right;\n",
       "    }\n",
       "</style>\n",
       "<table border=\"1\" class=\"dataframe\">\n",
       "  <thead>\n",
       "    <tr style=\"text-align: right;\">\n",
       "      <th></th>\n",
       "      <th>n</th>\n",
       "      <th>mean_time</th>\n",
       "      <th>std_time</th>\n",
       "      <th>ci_time</th>\n",
       "    </tr>\n",
       "  </thead>\n",
       "  <tbody>\n",
       "    <tr>\n",
       "      <th>0</th>\n",
       "      <td>5</td>\n",
       "      <td>7013347</td>\n",
       "      <td>44196</td>\n",
       "      <td>(7004685, 7022009)</td>\n",
       "    </tr>\n",
       "    <tr>\n",
       "      <th>1</th>\n",
       "      <td>10</td>\n",
       "      <td>14718864</td>\n",
       "      <td>83744</td>\n",
       "      <td>(14702451, 14735277)</td>\n",
       "    </tr>\n",
       "    <tr>\n",
       "      <th>2</th>\n",
       "      <td>15</td>\n",
       "      <td>22418614</td>\n",
       "      <td>117875</td>\n",
       "      <td>(22395512, 22441716)</td>\n",
       "    </tr>\n",
       "    <tr>\n",
       "      <th>3</th>\n",
       "      <td>20</td>\n",
       "      <td>30775835</td>\n",
       "      <td>160610</td>\n",
       "      <td>(30744357, 30807313)</td>\n",
       "    </tr>\n",
       "    <tr>\n",
       "      <th>4</th>\n",
       "      <td>25</td>\n",
       "      <td>37372369</td>\n",
       "      <td>187433</td>\n",
       "      <td>(37335634, 37409103)</td>\n",
       "    </tr>\n",
       "    <tr>\n",
       "      <th>5</th>\n",
       "      <td>30</td>\n",
       "      <td>46915708</td>\n",
       "      <td>235005</td>\n",
       "      <td>(46869650, 46961767)</td>\n",
       "    </tr>\n",
       "    <tr>\n",
       "      <th>6</th>\n",
       "      <td>35</td>\n",
       "      <td>56779833</td>\n",
       "      <td>311319</td>\n",
       "      <td>(56718818, 56840849)</td>\n",
       "    </tr>\n",
       "    <tr>\n",
       "      <th>7</th>\n",
       "      <td>40</td>\n",
       "      <td>64508651</td>\n",
       "      <td>356523</td>\n",
       "      <td>(64439123, 64578179)</td>\n",
       "    </tr>\n",
       "    <tr>\n",
       "      <th>8</th>\n",
       "      <td>45</td>\n",
       "      <td>71448246</td>\n",
       "      <td>350257</td>\n",
       "      <td>(71379940, 71516552)</td>\n",
       "    </tr>\n",
       "    <tr>\n",
       "      <th>9</th>\n",
       "      <td>50</td>\n",
       "      <td>78343703</td>\n",
       "      <td>353886</td>\n",
       "      <td>(78274689, 78412717)</td>\n",
       "    </tr>\n",
       "  </tbody>\n",
       "</table>\n",
       "</div>"
      ],
      "text/plain": [
       "    n  mean_time  std_time               ci_time\n",
       "0   5    7013347     44196    (7004685, 7022009)\n",
       "1  10   14718864     83744  (14702451, 14735277)\n",
       "2  15   22418614    117875  (22395512, 22441716)\n",
       "3  20   30775835    160610  (30744357, 30807313)\n",
       "4  25   37372369    187433  (37335634, 37409103)\n",
       "5  30   46915708    235005  (46869650, 46961767)\n",
       "6  35   56779833    311319  (56718818, 56840849)\n",
       "7  40   64508651    356523  (64439123, 64578179)\n",
       "8  45   71448246    350257  (71379940, 71516552)\n",
       "9  50   78343703    353886  (78274689, 78412717)"
      ]
     },
     "metadata": {},
     "output_type": "display_data"
    },
    {
     "name": "stdout",
     "output_type": "stream",
     "text": [
      "Shape: (10, 4)\n"
     ]
    }
   ],
   "source": [
    "show(div_and_conq, lines=10)"
   ]
  },
  {
   "cell_type": "code",
   "execution_count": 21,
   "metadata": {},
   "outputs": [
    {
     "data": {
      "image/png": "[encoded data removed]",
      "text/plain": [
       "<Figure size 640x480 with 1 Axes>"
      ]
     },
     "metadata": {},
     "output_type": "display_data"
    }
   ],
   "source": [
    "plt.plot(div_and_conq[\"n\"], div_and_conq[\"mean_time\"], label=\"Divide and Conquer\")\n",
    "plt.xlabel(\"Size of the array\")\n",
    "plt.ylabel(\"Time (μs)\")\n",
    "plt.title(\"E\n",
    "# plt.plot(optimal_radix[\"universe\"], optimal_radix[\"mean_time\"], label=\"Radix Sort\")\n",
    "plt.legend();"
   ]
  },
  {
   "cell_type": "code",
   "execution_count": null,
   "metadata": {},
   "outputs": [],
   "source": []
  }
 ],
 "metadata": {
  "kernelspec": {
   "display_name": "venv",
   "language": "python",
   "name": "python3"
  },
  "language_info": {
   "codemirror_mode": {
    "name": "ipython",
    "version": 3
   },
   "file_extension": ".py",
   "mimetype": "text/x-python",
   "name": "python",
   "nbconvert_exporter": "python",
   "pygments_lexer": "ipython3",
   "version": "3.11.1"
  }
 },
 "nbformat": 4,
 "nbformat_minor": 2
}
